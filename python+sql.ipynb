{
 "cells": [
  {
   "cell_type": "code",
   "execution_count": 3,
   "id": "6e6069b2-7020-4b6c-945b-8691a3b78e72",
   "metadata": {},
   "outputs": [],
   "source": [
    "import pandas as pd\n",
    "import matplotlib.pyplot as plt\n",
    "import seaborn as sns\n",
    "import mysql.connector\n",
    "\n",
    "db= mysql.connector.connect( host = \"localhost\",\n",
    "                           username = \"root\",\n",
    "                           password = \"Welcome098@\",\n",
    "                           database = \"ecommerce\")\n",
    "cur = db.cursor()\n"
   ]
  },
  {
   "cell_type": "markdown",
   "id": "e6a211cc-6618-424b-a561-f50753d101b1",
   "metadata": {},
   "source": [
    "# list all unique cities where customers are located   "
   ]
  },
  {
   "cell_type": "code",
   "execution_count": 29,
   "id": "53c4cf64-a491-48b5-a085-76a349ce8150",
   "metadata": {},
   "outputs": [
    {
     "data": {
      "text/html": [
       "<div>\n",
       "<style scoped>\n",
       "    .dataframe tbody tr th:only-of-type {\n",
       "        vertical-align: middle;\n",
       "    }\n",
       "\n",
       "    .dataframe tbody tr th {\n",
       "        vertical-align: top;\n",
       "    }\n",
       "\n",
       "    .dataframe thead th {\n",
       "        text-align: right;\n",
       "    }\n",
       "</style>\n",
       "<table border=\"1\" class=\"dataframe\">\n",
       "  <thead>\n",
       "    <tr style=\"text-align: right;\">\n",
       "      <th></th>\n",
       "      <th>0</th>\n",
       "    </tr>\n",
       "  </thead>\n",
       "  <tbody>\n",
       "    <tr>\n",
       "      <th>0</th>\n",
       "      <td>franca</td>\n",
       "    </tr>\n",
       "    <tr>\n",
       "      <th>1</th>\n",
       "      <td>sao bernardo do campo</td>\n",
       "    </tr>\n",
       "    <tr>\n",
       "      <th>2</th>\n",
       "      <td>sao paulo</td>\n",
       "    </tr>\n",
       "    <tr>\n",
       "      <th>3</th>\n",
       "      <td>mogi das cruzes</td>\n",
       "    </tr>\n",
       "    <tr>\n",
       "      <th>4</th>\n",
       "      <td>campinas</td>\n",
       "    </tr>\n",
       "  </tbody>\n",
       "</table>\n",
       "</div>"
      ],
      "text/plain": [
       "                       0\n",
       "0                 franca\n",
       "1  sao bernardo do campo\n",
       "2              sao paulo\n",
       "3        mogi das cruzes\n",
       "4               campinas"
      ]
     },
     "execution_count": 29,
     "metadata": {},
     "output_type": "execute_result"
    }
   ],
   "source": [
    "query = \"\"\"select distinct (customer_city) from customers\"\"\"\n",
    "\n",
    "cur.execute(query)\n",
    "data = cur.fetchall()\n",
    "df=pd.DataFrame(data)\n",
    "df.head()"
   ]
  },
  {
   "cell_type": "markdown",
   "id": "21346547-cf7f-4dc1-a49b-2aa2d47388e4",
   "metadata": {},
   "source": [
    "# count the number of orders placed in 2017"
   ]
  },
  {
   "cell_type": "code",
   "execution_count": 7,
   "id": "31af1ef5-b87e-4250-b3fe-4223077f03c1",
   "metadata": {},
   "outputs": [
    {
     "data": {
      "text/plain": [
       "[(45101,)]"
      ]
     },
     "execution_count": 7,
     "metadata": {},
     "output_type": "execute_result"
    }
   ],
   "source": [
    "query = \"\"\"select count(order_id) from orders where year(order_purchase_timestamp)=2017\"\"\"\n",
    "cur.execute(query)\n",
    "data = cur.fetchall()\n",
    "data"
   ]
  },
  {
   "cell_type": "markdown",
   "id": "4c43cd23-9dc8-480b-b3df-e8abdbcbd8c1",
   "metadata": {},
   "source": [
    "# find the total sales per category"
   ]
  },
  {
   "cell_type": "code",
   "execution_count": 13,
   "id": "911e43b6-5d2b-42b3-9a66-c6e268a007ba",
   "metadata": {},
   "outputs": [
    {
     "data": {
      "text/html": [
       "<div>\n",
       "<style scoped>\n",
       "    .dataframe tbody tr th:only-of-type {\n",
       "        vertical-align: middle;\n",
       "    }\n",
       "\n",
       "    .dataframe tbody tr th {\n",
       "        vertical-align: top;\n",
       "    }\n",
       "\n",
       "    .dataframe thead th {\n",
       "        text-align: right;\n",
       "    }\n",
       "</style>\n",
       "<table border=\"1\" class=\"dataframe\">\n",
       "  <thead>\n",
       "    <tr style=\"text-align: right;\">\n",
       "      <th></th>\n",
       "      <th>category</th>\n",
       "      <th>sales</th>\n",
       "    </tr>\n",
       "  </thead>\n",
       "  <tbody>\n",
       "    <tr>\n",
       "      <th>0</th>\n",
       "      <td>perfumery</td>\n",
       "      <td>506738.66</td>\n",
       "    </tr>\n",
       "    <tr>\n",
       "      <th>1</th>\n",
       "      <td>Furniture Decoration</td>\n",
       "      <td>1430176.39</td>\n",
       "    </tr>\n",
       "    <tr>\n",
       "      <th>2</th>\n",
       "      <td>telephony</td>\n",
       "      <td>486882.05</td>\n",
       "    </tr>\n",
       "    <tr>\n",
       "      <th>3</th>\n",
       "      <td>bed table bath</td>\n",
       "      <td>1712553.67</td>\n",
       "    </tr>\n",
       "    <tr>\n",
       "      <th>4</th>\n",
       "      <td>automotive</td>\n",
       "      <td>852294.33</td>\n",
       "    </tr>\n",
       "    <tr>\n",
       "      <th>...</th>\n",
       "      <td>...</td>\n",
       "      <td>...</td>\n",
       "    </tr>\n",
       "    <tr>\n",
       "      <th>69</th>\n",
       "      <td>cds music dvds</td>\n",
       "      <td>1199.43</td>\n",
       "    </tr>\n",
       "    <tr>\n",
       "      <th>70</th>\n",
       "      <td>La Cuisine</td>\n",
       "      <td>2913.53</td>\n",
       "    </tr>\n",
       "    <tr>\n",
       "      <th>71</th>\n",
       "      <td>Fashion Children's Clothing</td>\n",
       "      <td>785.67</td>\n",
       "    </tr>\n",
       "    <tr>\n",
       "      <th>72</th>\n",
       "      <td>PC Gamer</td>\n",
       "      <td>2174.43</td>\n",
       "    </tr>\n",
       "    <tr>\n",
       "      <th>73</th>\n",
       "      <td>insurance and services</td>\n",
       "      <td>324.51</td>\n",
       "    </tr>\n",
       "  </tbody>\n",
       "</table>\n",
       "<p>74 rows × 2 columns</p>\n",
       "</div>"
      ],
      "text/plain": [
       "                       category       sales\n",
       "0                     perfumery   506738.66\n",
       "1          Furniture Decoration  1430176.39\n",
       "2                     telephony   486882.05\n",
       "3                bed table bath  1712553.67\n",
       "4                    automotive   852294.33\n",
       "..                          ...         ...\n",
       "69               cds music dvds     1199.43\n",
       "70                   La Cuisine     2913.53\n",
       "71  Fashion Children's Clothing      785.67\n",
       "72                     PC Gamer     2174.43\n",
       "73       insurance and services      324.51\n",
       "\n",
       "[74 rows x 2 columns]"
      ]
     },
     "execution_count": 13,
     "metadata": {},
     "output_type": "execute_result"
    }
   ],
   "source": [
    "query = \"\"\"select products.product_category category,\n",
    "round(sum(payments.payment_value),2) sales\n",
    "from products join order_items \n",
    "on products.product_id=order_items.product_id\n",
    "join payments on payments.order_id= order_items.order_id\n",
    "group by category\"\"\"\n",
    "\n",
    "cur.execute(query)\n",
    "data = cur.fetchall()\n",
    "df = pd.DataFrame(data, columns = [\"category\",\"sales\"])\n",
    "df\n"
   ]
  },
  {
   "cell_type": "markdown",
   "id": "14b1cc70-7ad6-4328-93d5-007d6eefa6de",
   "metadata": {},
   "source": [
    "# calculate the percentage of orders that were paid in installments"
   ]
  },
  {
   "cell_type": "code",
   "execution_count": 21,
   "id": "9f9f9ba1-73ae-4e46-bca2-16b14b16976f",
   "metadata": {},
   "outputs": [
    {
     "data": {
      "text/plain": [
       "[(Decimal('99.9981'),)]"
      ]
     },
     "execution_count": 21,
     "metadata": {},
     "output_type": "execute_result"
    }
   ],
   "source": [
    "query = \"\"\"select (sum(case when payment_installments >=1 \n",
    "then 1 else 0 end)/count(*)*100) from payments\"\"\"\n",
    "\n",
    "\n",
    "cur.execute(query)\n",
    "data = cur.fetchall()\n",
    "data"
   ]
  },
  {
   "cell_type": "markdown",
   "id": "ff594a8d-d1c6-42a4-9acf-f8d425d812b5",
   "metadata": {},
   "source": [
    "# count number of customers from each state "
   ]
  },
  {
   "cell_type": "code",
   "execution_count": 28,
   "id": "ccc3db28-2f26-42fd-8e6d-af5690e35c17",
   "metadata": {},
   "outputs": [
    {
     "data": {
      "image/png": "[encoded data removed]",
      "text/plain": [
       "<Figure size 640x480 with 1 Axes>"
      ]
     },
     "metadata": {},
     "output_type": "display_data"
    }
   ],
   "source": [
    "query = \"\"\"select customer_state,count(customer_id) from customers\n",
    "group by customer_state\"\"\"\n",
    "\n",
    "\n",
    "cur.execute(query)\n",
    "data = cur.fetchall()\n",
    "df= pd.DataFrame(data , columns=[\"state\",\"customer_count\"])\n",
    "plt.xticks(rotation=90)\n",
    "plt.bar(df[\"state\"],df[\"customer_count\"])\n",
    "plt.show()"
   ]
  },
  {
   "cell_type": "markdown",
   "id": "f9d93b9b-f5c2-46ca-a2fa-28dee5ae1572",
   "metadata": {},
   "source": [
    "# calculate the number of orders per month in 2018"
   ]
  },
  {
   "cell_type": "code",
   "execution_count": 35,
   "id": "ca1ee306-959b-47d3-ae4d-eed86ff7d9c9",
   "metadata": {},
   "outputs": [
    {
     "data": {
      "image/png": "[encoded data removed]",
      "text/plain": [
       "<Figure size 640x480 with 1 Axes>"
      ]
     },
     "metadata": {},
     "output_type": "display_data"
    }
   ],
   "source": [
    "query = \"\"\"select monthname(order_purchase_timestamp)months , count(order_id)order_count from orders where year(order_purchase_timestamp)=2018\n",
    "group by months\"\"\"\n",
    "\n",
    "\n",
    "cur.execute(query)\n",
    "data = cur.fetchall()\n",
    "df=pd.DataFrame(data, columns=[\"month\",\"order_count\"])\n",
    "sns.barplot(x=df[\"month\"],y=df[\"order_count\"],data=df)\n",
    "plt.xticks(rotation=90)\n",
    "plt.show()"
   ]
  },
  {
   "cell_type": "markdown",
   "id": "eaa52ddc-3da3-4fb1-b300-141924b9af9d",
   "metadata": {},
   "source": [
    "# find the average number of products per order, grouped by customer city."
   ]
  },
  {
   "cell_type": "code",
   "execution_count": 38,
   "id": "74045717-9403-406a-bba7-b4fb0ae3d8a7",
   "metadata": {},
   "outputs": [
    {
     "data": {
      "text/html": [
       "<div>\n",
       "<style scoped>\n",
       "    .dataframe tbody tr th:only-of-type {\n",
       "        vertical-align: middle;\n",
       "    }\n",
       "\n",
       "    .dataframe tbody tr th {\n",
       "        vertical-align: top;\n",
       "    }\n",
       "\n",
       "    .dataframe thead th {\n",
       "        text-align: right;\n",
       "    }\n",
       "</style>\n",
       "<table border=\"1\" class=\"dataframe\">\n",
       "  <thead>\n",
       "    <tr style=\"text-align: right;\">\n",
       "      <th></th>\n",
       "      <th>0</th>\n",
       "      <th>1</th>\n",
       "    </tr>\n",
       "  </thead>\n",
       "  <tbody>\n",
       "    <tr>\n",
       "      <th>0</th>\n",
       "      <td>sao paulo</td>\n",
       "      <td>1.16</td>\n",
       "    </tr>\n",
       "    <tr>\n",
       "      <th>1</th>\n",
       "      <td>sao jose dos campos</td>\n",
       "      <td>1.14</td>\n",
       "    </tr>\n",
       "    <tr>\n",
       "      <th>2</th>\n",
       "      <td>porto alegre</td>\n",
       "      <td>1.17</td>\n",
       "    </tr>\n",
       "    <tr>\n",
       "      <th>3</th>\n",
       "      <td>indaial</td>\n",
       "      <td>1.12</td>\n",
       "    </tr>\n",
       "    <tr>\n",
       "      <th>4</th>\n",
       "      <td>treze tilias</td>\n",
       "      <td>1.27</td>\n",
       "    </tr>\n",
       "    <tr>\n",
       "      <th>5</th>\n",
       "      <td>rio de janeiro</td>\n",
       "      <td>1.15</td>\n",
       "    </tr>\n",
       "    <tr>\n",
       "      <th>6</th>\n",
       "      <td>mario campos</td>\n",
       "      <td>1.33</td>\n",
       "    </tr>\n",
       "    <tr>\n",
       "      <th>7</th>\n",
       "      <td>guariba</td>\n",
       "      <td>1.00</td>\n",
       "    </tr>\n",
       "    <tr>\n",
       "      <th>8</th>\n",
       "      <td>cuiaba</td>\n",
       "      <td>1.20</td>\n",
       "    </tr>\n",
       "    <tr>\n",
       "      <th>9</th>\n",
       "      <td>franca</td>\n",
       "      <td>1.25</td>\n",
       "    </tr>\n",
       "  </tbody>\n",
       "</table>\n",
       "</div>"
      ],
      "text/plain": [
       "                     0     1\n",
       "0            sao paulo  1.16\n",
       "1  sao jose dos campos  1.14\n",
       "2         porto alegre  1.17\n",
       "3              indaial  1.12\n",
       "4         treze tilias  1.27\n",
       "5       rio de janeiro  1.15\n",
       "6         mario campos  1.33\n",
       "7              guariba  1.00\n",
       "8               cuiaba  1.20\n",
       "9               franca  1.25"
      ]
     },
     "execution_count": 38,
     "metadata": {},
     "output_type": "execute_result"
    }
   ],
   "source": [
    "query = \"\"\"with count_per_order as\n",
    "(select orders.order_id,orders.customer_id,count(order_items.order_id)as oc\n",
    "from orders join order_items\n",
    "on orders.order_id=order_items.order_id\n",
    "group by orders.order_id,orders.customer_id)\n",
    "\n",
    "select customers.customer_city, round(avg(count_per_order.oc),2)average_orders\n",
    "from customers join count_per_order\n",
    "on customers.customer_id=count_per_order.customer_id\n",
    "group by customers.customer_city;\"\"\"\n",
    "\n",
    "\n",
    "cur.execute(query)\n",
    "data = cur.fetchall()\n",
    "df=pd.DataFrame(data)\n",
    "df.head(10)"
   ]
  },
  {
   "cell_type": "code",
   "execution_count": null,
   "id": "c25cce06-432c-424e-b740-cd833e5ba415",
   "metadata": {},
   "outputs": [],
   "source": []
  }
 ],
 "metadata": {
  "kernelspec": {
   "display_name": "Python 3 (ipykernel)",
   "language": "python",
   "name": "python3"
  },
  "language_info": {
   "codemirror_mode": {
    "name": "ipython",
    "version": 3
   },
   "file_extension": ".py",
   "mimetype": "text/x-python",
   "name": "python",
   "nbconvert_exporter": "python",
   "pygments_lexer": "ipython3",
   "version": "3.12.5"
  }
 },
 "nbformat": 4,
 "nbformat_minor": 5
}
